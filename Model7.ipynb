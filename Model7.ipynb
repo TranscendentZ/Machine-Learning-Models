{
 "cells": [
  {
   "cell_type": "code",
   "execution_count": 3,
   "metadata": {},
   "outputs": [
    {
     "name": "stdout",
     "output_type": "stream",
     "text": [
      "Coefficients: \n",
      " [ -8.80740828e-02   6.72507352e-02   5.10280463e-02   2.18879172e+00\n",
      "  -1.72283734e+01   3.62985243e+00   2.13933641e-03  -1.36531300e+00\n",
      "   2.88788067e-01  -1.22618657e-02  -8.36014969e-01   9.53058061e-03\n",
      "  -5.05036163e-01]\n",
      "0.720898784611\n"
     ]
    }
   ],
   "source": [
    "import numpy as np\n",
    "from sklearn import datasets, linear_model, metrics\n",
    " \n",
    "boston = datasets.load_boston(return_X_y=False)\n",
    " \n",
    "X = boston.data\n",
    "y = boston.target\n",
    " \n",
    "from sklearn.model_selection import train_test_split\n",
    "X_train, X_test, y_train, y_test = train_test_split(X,y, test_size=0.4,\n",
    "                                                    random_state=1)\n",
    "\n",
    "model = linear_model.LinearRegression()\n",
    "model.fit(X_train, y_train)\n",
    " \n",
    "print('Coefficients: \\n', model.coef_)\n",
    " \n",
    "print(model.score(X_test, y_test))"
   ]
  },
  {
   "cell_type": "code",
   "execution_count": null,
   "metadata": {},
   "outputs": [],
   "source": []
  }
 ],
 "metadata": {
  "kernelspec": {
   "display_name": "Python 3",
   "language": "python",
   "name": "python3"
  },
  "language_info": {
   "codemirror_mode": {
    "name": "ipython",
    "version": 3
   },
   "file_extension": ".py",
   "mimetype": "text/x-python",
   "name": "python",
   "nbconvert_exporter": "python",
   "pygments_lexer": "ipython3",
   "version": "3.6.2"
  }
 },
 "nbformat": 4,
 "nbformat_minor": 2
}
